{
 "cells": [
  {
   "cell_type": "code",
   "execution_count": 28,
   "metadata": {
    "colab": {
     "base_uri": "https://localhost:8080/"
    },
    "executionInfo": {
     "elapsed": 112,
     "status": "ok",
     "timestamp": 1741890767321,
     "user": {
      "displayName": "Mussie Leake",
      "userId": "16289331510564865855"
     },
     "user_tz": -180
    },
    "id": "FCST_0kyx5oP",
    "outputId": "4a1de0d7-1936-4d1d-d0ee-0f056af2018d"
   },
   "outputs": [
    {
     "name": "stdout",
     "output_type": "stream",
     "text": [
      "  backend\u001b[m\n",
      "* \u001b[32mfeature/model\u001b[m\n",
      "  main\u001b[m\n"
     ]
    }
   ],
   "source": [
    "!git branch"
   ]
  },
  {
   "cell_type": "code",
   "execution_count": 29,
   "metadata": {
    "executionInfo": {
     "elapsed": 762,
     "status": "ok",
     "timestamp": 1741890788757,
     "user": {
      "displayName": "Mussie Leake",
      "userId": "16289331510564865855"
     },
     "user_tz": -180
    },
    "id": "Ld5RU4k3x8gD"
   },
   "outputs": [],
   "source": [
    "# Install necessary libraries (uncomment if running for the first time)\n",
    "# !pip install pandas numpy scikit-learn requests beautifulsoup4 matplotlib seaborn\n",
    "\n",
    "import pandas as pd\n",
    "import numpy as np\n",
    "import requests\n",
    "from bs4 import BeautifulSoup\n",
    "import matplotlib.pyplot as plt\n",
    "import seaborn as sns\n",
    "from sklearn.model_selection import train_test_split\n",
    "from sklearn.linear_model import LinearRegression\n",
    "from sklearn.metrics import mean_absolute_error, mean_squared_error\n"
   ]
  },
  {
   "cell_type": "code",
   "execution_count": 30,
   "metadata": {
    "colab": {
     "base_uri": "https://localhost:8080/"
    },
    "collapsed": true,
    "executionInfo": {
     "elapsed": 1090,
     "status": "ok",
     "timestamp": 1741890804461,
     "user": {
      "displayName": "Mussie Leake",
      "userId": "16289331510564865855"
     },
     "user_tz": -180
    },
    "id": "nRN4rpYSyBk8",
    "outputId": "7b69489f-0928-42b4-f9c8-86064c119f6b"
   },
   "outputs": [
    {
     "name": "stdout",
     "output_type": "stream",
     "text": [
      "   Level kWh Range  Price per kWh (Birr)\n",
      "0      1      0-50                 0.273\n",
      "1      2    51-100                 0.773\n",
      "2      3   101-200                 1.473\n",
      "3      4   201-300                 2.000\n",
      "4      5   301-400                 2.327\n",
      "5      6   401-500                 2.552\n",
      "6      7      500+                 2.900\n"
     ]
    }
   ],
   "source": [
    "# URL of Ethiopian Electric Utility Tariff Page\n",
    "url = \"http://www.ethiopianelectricutility.gov.et/electricity-tariff/detail/85?lang=en\"\n",
    "\n",
    "# Fetch the webpage content\n",
    "response = requests.get(url)\n",
    "soup = BeautifulSoup(response.content, \"html.parser\")\n",
    "\n",
    "# Extract the tariff data (assuming it's inside a table)\n",
    "tables = soup.find_all(\"table\")\n",
    "\n",
    "# Convert the table into a pandas DataFrame (manual extraction needed)\n",
    "# Example tariff data\n",
    "tariff_data = {\n",
    "    \"Level\": [1, 2, 3, 4, 5, 6, 7],\n",
    "    \"kWh Range\": [\"0-50\", \"51-100\", \"101-200\", \"201-300\", \"301-400\", \"401-500\", \"500+\"],\n",
    "    \"Price per kWh (Birr)\": [0.273, 0.773, 1.473, 2.000, 2.327, 2.552, 2.900]\n",
    "}\n",
    "\n",
    "df_tariff = pd.DataFrame(tariff_data)\n",
    "print(df_tariff)\n"
   ]
  },
  {
   "cell_type": "code",
   "execution_count": 1,
   "metadata": {
    "colab": {
     "base_uri": "https://localhost:8080/"
    },
    "executionInfo": {
     "elapsed": 2734,
     "status": "ok",
     "timestamp": 1741936788710,
     "user": {
      "displayName": "Mussie Leake",
      "userId": "16289331510564865855"
     },
     "user_tz": -180
    },
    "id": "Q7LjMI80yLDw",
    "outputId": "6d5efb94-9751-488b-eb48-4f0fe1e3c601"
   },
   "outputs": [
    {
     "name": "stdout",
     "output_type": "stream",
     "text": [
      "        Country  Household_Size  Season  Daily_Consumption_kWh  \\\n",
      "0         India               3  Autumn              19.536241   \n",
      "1       Germany               6  Autumn              29.834938   \n",
      "2        Brazil               4  Winter              10.783258   \n",
      "3        Brazil               1  Spring              26.430403   \n",
      "4  South Africa               5  Autumn              24.625557   \n",
      "\n",
      "   Monthly_Consumption_kWh  Tariff_per_kWh  Monthly_Cost  \\\n",
      "0               586.087227            0.08     46.886978   \n",
      "1               895.048155            0.30    268.514446   \n",
      "2               323.497739            0.12     38.819729   \n",
      "3               792.912097            0.12     95.149452   \n",
      "4               738.766697            0.14    103.427338   \n",
      "\n",
      "                                     Appliance_Usage  \n",
      "0  {'Heating': 4.973335574651555, 'Cooling': 3.88...  \n",
      "1  {'Heating': 6.16148797271564, 'Cooling': 13.38...  \n",
      "2  {'Heating': 1.127410079814348, 'Cooling': 5.33...  \n",
      "3  {'Heating': 11.214153821100169, 'Cooling': 5.4...  \n",
      "4  {'Heating': 9.020552909259727, 'Cooling': 2.58...  \n"
     ]
    }
   ],
   "source": [
    "import pandas as pd\n",
    "import numpy as np\n",
    "\n",
    "# Define sample countries and regions\n",
    "countries = [\"USA\", \"Germany\", \"France\", \"India\", \"China\", \"Brazil\", \"Ethiopia\", \"South Africa\", \"UK\", \"Canada\"]\n",
    "household_sizes = [1, 2, 3, 4, 5, 6]  # Number of people in household\n",
    "seasonal_factors = {\"Winter\": 1.2, \"Spring\": 0.9, \"Summer\": 1.1, \"Autumn\": 1.0}  # Seasonal consumption variation\n",
    "appliance_types = [\"Heating\", \"Cooling\", \"Lighting\", \"Cooking\", \"Entertainment\", \"Others\"]\n",
    "\n",
    "# Define base tariffs per country (USD per kWh)\n",
    "tariffs = {\n",
    "    \"USA\": 0.15, \"Germany\": 0.30, \"France\": 0.25, \"India\": 0.08, \"China\": 0.10,\n",
    "    \"Brazil\": 0.12, \"Ethiopia\": 0.06, \"South Africa\": 0.14, \"UK\": 0.22, \"Canada\": 0.13\n",
    "}\n",
    "\n",
    "# Generate synthetic data\n",
    "num_samples = 10000\n",
    "data = []\n",
    "\n",
    "for _ in range(num_samples):\n",
    "    country = np.random.choice(countries)\n",
    "    household_size = np.random.choice(household_sizes)\n",
    "    season = np.random.choice(list(seasonal_factors.keys()))\n",
    "    tariff = tariffs[country]\n",
    "\n",
    "    # Simulating daily and monthly energy consumption based on household size and seasonal variation\n",
    "    base_daily_consumption = np.random.uniform(5, 30)  # Base daily consumption in kWh\n",
    "    daily_consumption = base_daily_consumption * seasonal_factors[season]\n",
    "    monthly_consumption = daily_consumption * 30\n",
    "\n",
    "    # Appliance-specific consumption (randomly split among appliance types)\n",
    "    appliance_usage = {appliance: np.random.uniform(0.1, 0.5) * daily_consumption for appliance in appliance_types}\n",
    "\n",
    "    # Total cost calculation\n",
    "    monthly_cost = monthly_consumption * tariff\n",
    "\n",
    "    # Append to dataset\n",
    "    data.append([country, household_size, season, daily_consumption, monthly_consumption, tariff, monthly_cost, appliance_usage])\n",
    "\n",
    "# Create DataFrame\n",
    "global_energy_data = pd.DataFrame(data, columns=[\n",
    "    \"Country\", \"Household_Size\", \"Season\", \"Daily_Consumption_kWh\",\n",
    "    \"Monthly_Consumption_kWh\", \"Tariff_per_kWh\", \"Monthly_Cost\", \"Appliance_Usage\"\n",
    "])\n",
    "\n",
    "# Save the dataset for later use\n",
    "global_energy_data.to_csv(\"simulated_global_energy_data.csv\", index=False)\n",
    "\n",
    "# Show sample of the dataset\n",
    "print(global_energy_data.head())\n"
   ]
  },
  {
   "cell_type": "code",
   "execution_count": null,
   "metadata": {
    "id": "GEdFGwOHhwU7"
   },
   "outputs": [],
   "source": [
    "import pandas as pd\n",
    "\n",
    "# Load the dataset\n",
    "df = pd.read_csv(\"simulated_global_energy_data.csv\")\n",
    "\n",
    "# Display basic info\n",
    "print(df.info())\n",
    "print(df.head())\n"
   ]
  },
  {
   "cell_type": "code",
   "execution_count": null,
   "metadata": {
    "id": "rTYII4vOhw5w"
   },
   "outputs": [],
   "source": [
    "from sklearn.preprocessing import StandardScaler\n",
    "\n",
    "# Drop the 'Appliance_Usage' column (since it's a dictionary inside the dataset)\n",
    "df = df.drop(columns=[\"Appliance_Usage\"])\n",
    "\n",
    "# Check for missing values\n",
    "df = df.dropna()\n",
    "\n",
    "# Encode categorical variables (Country and Season)\n",
    "df = pd.get_dummies(df, columns=[\"Country\", \"Season\"], drop_first=True)\n",
    "\n",
    "# Scale the numeric features\n",
    "scaler = StandardScaler()\n",
    "df[[\"Daily_Consumption_kWh\", \"Monthly_Consumption_kWh\", \"Tariff_per_kWh\"]] = scaler.fit_transform(\n",
    "    df[[\"Daily_Consumption_kWh\", \"Monthly_Consumption_kWh\", \"Tariff_per_kWh\"]]\n",
    ")\n",
    "\n",
    "# Show preprocessed data\n",
    "print(df.head())\n"
   ]
  },
  {
   "cell_type": "code",
   "execution_count": 4,
   "metadata": {
    "colab": {
     "base_uri": "https://localhost:8080/"
    },
    "executionInfo": {
     "elapsed": 116,
     "status": "ok",
     "timestamp": 1741936913167,
     "user": {
      "displayName": "Mussie Leake",
      "userId": "16289331510564865855"
     },
     "user_tz": -180
    },
    "id": "BF_IFdroh3k0",
    "outputId": "18696415-6211-4993-eb59-de5c7cd7d065"
   },
   "outputs": [
    {
     "name": "stdout",
     "output_type": "stream",
     "text": [
      "Training Samples: 8000, Testing Samples: 2000\n"
     ]
    }
   ],
   "source": [
    "from sklearn.model_selection import train_test_split\n",
    "\n",
    "# Define features (X) and target variable (y)\n",
    "X = df.drop(columns=[\"Monthly_Cost\"])  # Features\n",
    "y = df[\"Monthly_Cost\"]  # Target variable (what we want to predict)\n",
    "\n",
    "# Split the data into 80% training and 20% testing\n",
    "X_train, X_test, y_train, y_test = train_test_split(X, y, test_size=0.2, random_state=42)\n",
    "\n",
    "print(f\"Training Samples: {len(X_train)}, Testing Samples: {len(X_test)}\")\n"
   ]
  },
  {
   "cell_type": "code",
   "execution_count": 5,
   "metadata": {
    "colab": {
     "base_uri": "https://localhost:8080/"
    },
    "executionInfo": {
     "elapsed": 4037,
     "status": "ok",
     "timestamp": 1741936951535,
     "user": {
      "displayName": "Mussie Leake",
      "userId": "16289331510564865855"
     },
     "user_tz": -180
    },
    "id": "4cnI9kW-iGB6",
    "outputId": "99581207-3088-4108-fde7-c29a82d5f3cb"
   },
   "outputs": [
    {
     "name": "stdout",
     "output_type": "stream",
     "text": [
      "Model training complete!\n"
     ]
    }
   ],
   "source": [
    "from sklearn.ensemble import RandomForestRegressor\n",
    "\n",
    "# Initialize and train the model\n",
    "model = RandomForestRegressor(n_estimators=100, random_state=42)\n",
    "model.fit(X_train, y_train)\n",
    "\n",
    "print(\"Model training complete!\")\n"
   ]
  },
  {
   "cell_type": "code",
   "execution_count": 6,
   "metadata": {
    "colab": {
     "base_uri": "https://localhost:8080/"
    },
    "executionInfo": {
     "elapsed": 100,
     "status": "ok",
     "timestamp": 1741936981376,
     "user": {
      "displayName": "Mussie Leake",
      "userId": "16289331510564865855"
     },
     "user_tz": -180
    },
    "id": "s42s4SKwiOcw",
    "outputId": "4373ec92-b5ad-4189-c9b3-f9a3ddd4ad95"
   },
   "outputs": [
    {
     "name": "stdout",
     "output_type": "stream",
     "text": [
      "Mean Absolute Error: 0.09\n",
      "R² Score: 1.00\n"
     ]
    }
   ],
   "source": [
    "from sklearn.metrics import mean_absolute_error, r2_score\n",
    "\n",
    "# Predict on the test set\n",
    "y_pred = model.predict(X_test)\n",
    "\n",
    "# Calculate performance metrics\n",
    "mae = mean_absolute_error(y_test, y_pred)\n",
    "r2 = r2_score(y_test, y_pred)\n",
    "\n",
    "print(f\"Mean Absolute Error: {mae:.2f}\")\n",
    "print(f\"R² Score: {r2:.2f}\")\n"
   ]
  },
  {
   "cell_type": "code",
   "execution_count": 7,
   "metadata": {
    "colab": {
     "base_uri": "https://localhost:8080/"
    },
    "executionInfo": {
     "elapsed": 71,
     "status": "ok",
     "timestamp": 1741937009461,
     "user": {
      "displayName": "Mussie Leake",
      "userId": "16289331510564865855"
     },
     "user_tz": -180
    },
    "id": "re-g7vPeiQTi",
    "outputId": "4abd7c3d-afc1-482a-ffd1-f5974f1c9449"
   },
   "outputs": [
    {
     "name": "stdout",
     "output_type": "stream",
     "text": [
      "fatal: not a git repository (or any of the parent directories): .git\n"
     ]
    }
   ],
   "source": [
    "!git branch"
   ]
  },
  {
   "cell_type": "code",
   "execution_count": 8,
   "metadata": {
    "colab": {
     "base_uri": "https://localhost:8080/"
    },
    "executionInfo": {
     "elapsed": 857,
     "status": "ok",
     "timestamp": 1741937059749,
     "user": {
      "displayName": "Mussie Leake",
      "userId": "16289331510564865855"
     },
     "user_tz": -180
    },
    "id": "bmaD5gxHiVKS",
    "outputId": "c2823e2c-3b14-4103-da89-b2dfc18a7183"
   },
   "outputs": [
    {
     "name": "stdout",
     "output_type": "stream",
     "text": [
      "Cloning into 'FTL-Hackathon-1'...\n",
      "remote: Enumerating objects: 66, done.\u001b[K\n",
      "remote: Counting objects: 100% (66/66), done.\u001b[K\n",
      "remote: Compressing objects: 100% (53/53), done.\u001b[K\n",
      "remote: Total 66 (delta 23), reused 38 (delta 7), pack-reused 0 (from 0)\u001b[K\n",
      "Receiving objects: 100% (66/66), 14.64 KiB | 7.32 MiB/s, done.\n",
      "Resolving deltas: 100% (23/23), done.\n"
     ]
    }
   ],
   "source": [
    "!git clone https://github.com/jae-red21/FTL-Hackathon-1"
   ]
  },
  {
   "cell_type": "code",
   "execution_count": 11,
   "metadata": {
    "colab": {
     "base_uri": "https://localhost:8080/"
    },
    "executionInfo": {
     "elapsed": 134,
     "status": "ok",
     "timestamp": 1741937089486,
     "user": {
      "displayName": "Mussie Leake",
      "userId": "16289331510564865855"
     },
     "user_tz": -180
    },
    "id": "l3_SUkcMijlY",
    "outputId": "915735ea-d4f4-4a56-a2c7-536a06893c6f"
   },
   "outputs": [
    {
     "name": "stdout",
     "output_type": "stream",
     "text": [
      "* \u001b[32mmain\u001b[m\n",
      "  \u001b[31mremotes/origin/HEAD\u001b[m -> origin/main\n",
      "  \u001b[31mremotes/origin/backend\u001b[m\n",
      "  \u001b[31mremotes/origin/feature/base\u001b[m\n",
      "  \u001b[31mremotes/origin/feature/dash-board\u001b[m\n",
      "  \u001b[31mremotes/origin/feature/estimate\u001b[m\n",
      "  \u001b[31mremotes/origin/feature/landing\u001b[m\n",
      "  \u001b[31mremotes/origin/feature/pricing\u001b[m\n",
      "  \u001b[31mremotes/origin/feature/tips\u001b[m\n",
      "  \u001b[31mremotes/origin/flasksetup\u001b[m\n",
      "  \u001b[31mremotes/origin/frontend\u001b[m\n",
      "  \u001b[31mremotes/origin/main\u001b[m\n"
     ]
    }
   ],
   "source": [
    "!git branch -a"
   ]
  },
  {
   "cell_type": "code",
   "execution_count": 1,
   "metadata": {
    "id": "daeKJlB8il-4"
   },
   "outputs": [
    {
     "name": "stderr",
     "output_type": "stream",
     "text": [
      "git: 'feature-branch/model-training' is not a git command. See 'git --help'.\n"
     ]
    }
   ],
   "source": [
    "!git feature-branch/model-training"
   ]
  },
  {
   "cell_type": "code",
   "execution_count": null,
   "metadata": {},
   "outputs": [],
   "source": []
  }
 ],
 "metadata": {
  "colab": {
   "authorship_tag": "ABX9TyPB2tEECMOnrf7pKCxGC1ga",
   "provenance": []
  },
  "kernelspec": {
   "display_name": "Python 3",
   "name": "python3"
  },
  "language_info": {
   "codemirror_mode": {
    "name": "ipython",
    "version": 3
   },
   "file_extension": ".py",
   "mimetype": "text/x-python",
   "name": "python",
   "nbconvert_exporter": "python",
   "pygments_lexer": "ipython3",
   "version": "3.13.2"
  }
 },
 "nbformat": 4,
 "nbformat_minor": 0
}
